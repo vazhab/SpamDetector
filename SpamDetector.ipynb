{
  "nbformat": 4,
  "nbformat_minor": 0,
  "metadata": {
    "colab": {
      "provenance": [],
      "authorship_tag": "ABX9TyNifH5PvQPz7MkAkA+8yiHw",
      "include_colab_link": true
    },
    "kernelspec": {
      "name": "python3",
      "display_name": "Python 3"
    },
    "language_info": {
      "name": "python"
    }
  },
  "cells": [
    {
      "cell_type": "markdown",
      "metadata": {
        "id": "view-in-github",
        "colab_type": "text"
      },
      "source": [
        "<a href=\"https://colab.research.google.com/github/vazhab/SpamDetector/blob/main/SpamDetector.ipynb\" target=\"_parent\"><img src=\"https://colab.research.google.com/assets/colab-badge.svg\" alt=\"Open In Colab\"/></a>"
      ]
    },
    {
      "cell_type": "code",
      "execution_count": 11,
      "metadata": {
        "colab": {
          "base_uri": "https://localhost:8080/"
        },
        "id": "cIVu2regoN2O",
        "outputId": "21ddd466-6eba-4b26-c7cc-1819b15b2f9e"
      },
      "outputs": [
        {
          "output_type": "stream",
          "name": "stdout",
          "text": [
            "Accuracy:  0.9856502242152466\n",
            "Classification Report\n",
            "              precision    recall  f1-score   support\n",
            "\n",
            "         ham       0.98      1.00      0.99       970\n",
            "        spam       0.99      0.90      0.94       145\n",
            "\n",
            "    accuracy                           0.99      1115\n",
            "   macro avg       0.99      0.95      0.97      1115\n",
            "weighted avg       0.99      0.99      0.99      1115\n",
            "\n",
            "Safe email!\n"
          ]
        }
      ],
      "source": [
        "## IMPORT REQUIRED PACKAGES\n",
        "\n",
        "# text processing package\n",
        "import pandas\n",
        "\n",
        "# dataset processing package\n",
        "from sklearn.model_selection import train_test_split\n",
        "from sklearn.feature_extraction.text import CountVectorizer\n",
        "\n",
        "# ML model packages\n",
        "from sklearn.svm import SVC\n",
        "from sklearn.naive_bayes import MultinomialNB\n",
        "\n",
        "# ML performance evaluation packages\n",
        "from sklearn.metrics import accuracy_score, classification_report\n",
        "\n",
        "## ------ MAIN PROGRAM BEGINS HERE --------\n",
        "## INPUT PROCESSING\n",
        "\n",
        "# read labelled csv dataset for spam emails with pandas\n",
        "# initialize x for 'text' column\n",
        "# initialize y for 'label' column\n",
        "spam = pandas.read_csv('spam.csv')\n",
        "x = spam[\"text\"]\n",
        "y = spam[\"label\"]\n",
        "\n",
        "\n",
        "## PREPARE DATA FOR MODEL\n",
        "\n",
        "# create 80:20 split for train data and test data\n",
        "x_train, x_test, y_train, y_test = train_test_split(x, y, test_size=0.2, random_state=100)\n",
        "\n",
        "\n",
        "## PROCESS DATA\n",
        "\n",
        "# create frequency vector of input words\n",
        "# generate feature frequency vector from x_train\n",
        "cv = CountVectorizer()\n",
        "features = cv.fit_transform(x_train)\n",
        "\n",
        "## CREATE MACHINE LEARNING MODEL\n",
        "\n",
        "# create model: SVC or MultinomialNB\n",
        "# fit model with feature and y_train y_train\n",
        "model = SVC()\n",
        "# model = MultinomialNB()\n",
        "model.fit(features, y_train)\n",
        "\n",
        "## MODEL TESTING\n",
        "\n",
        "# test ML model performance using test data split x_test\n",
        "# generate predictions y_pred for labels\n",
        "model_test = cv.transform(x_test)\n",
        "y_pred = model.predict(model_test)\n",
        "\n",
        "\n",
        "## MODEL PERFORMANCE EVALUATION\n",
        "\n",
        "# generate accuracy score comparing y_test and y_pred\n",
        "# generate classification report comparing y_test and y_pred\n",
        "# output accuracy and classification report\n",
        "accuracy = accuracy_score(y_test, y_pred)\n",
        "report = classification_report(y_test, y_pred)\n",
        "print(\"Accuracy: \", accuracy)\n",
        "print(\"Classification Report\")\n",
        "print(report)\n",
        "\n",
        "\n",
        "## USE MODEL WITH TEST EMAIL\n",
        "## Sample emails:\n",
        "## 1. Congratulations! You've won a prize. Claim it now.\n",
        "## 2. Please accept my assignment submission via email.\n",
        "\n",
        "# create test email for using prediction model\n",
        "# generate frequency vector for test email\n",
        "# generate prediction for test email\n",
        "my_email = [\"Congratulations! You've won a prize. Claim it now.\"]\n",
        "my_email = [\"Please accept my assignment submission via email.\"]\n",
        "my_email = cv.transform(my_email)\n",
        "my_pred = model.predict(my_email)\n",
        "\n",
        "# output prediction decision\n",
        "# if prediction is \"spam\", display alert\n",
        "# else, display \"safe email\"\n",
        "if my_pred[0] == 'spam':\n",
        "  print(\"spam alert!\")\n",
        "else:\n",
        "  print(\"Safe email!\")"
      ]
    }
  ]
}